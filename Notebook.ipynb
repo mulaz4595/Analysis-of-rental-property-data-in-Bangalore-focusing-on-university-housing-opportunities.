{
 "cells": [
  {
   "cell_type": "code",
   "execution_count": 11,
   "id": "56637e56-6e92-4900-8716-6dcf464298e4",
   "metadata": {},
   "outputs": [
    {
     "data": {
      "text/html": [
       "<div>\n",
       "<style scoped>\n",
       "    .dataframe tbody tr th:only-of-type {\n",
       "        vertical-align: middle;\n",
       "    }\n",
       "\n",
       "    .dataframe tbody tr th {\n",
       "        vertical-align: top;\n",
       "    }\n",
       "\n",
       "    .dataframe thead th {\n",
       "        text-align: right;\n",
       "    }\n",
       "</style>\n",
       "<table border=\"1\" class=\"dataframe\">\n",
       "  <thead>\n",
       "    <tr style=\"text-align: right;\">\n",
       "      <th></th>\n",
       "      <th>Posted On</th>\n",
       "      <th>BHK</th>\n",
       "      <th>Rent</th>\n",
       "      <th>Size</th>\n",
       "      <th>Floor</th>\n",
       "      <th>Area Type</th>\n",
       "      <th>Area Locality</th>\n",
       "      <th>City</th>\n",
       "      <th>Furnishing Status</th>\n",
       "      <th>Tenant Preferred</th>\n",
       "      <th>Bathroom</th>\n",
       "      <th>Point of Contact</th>\n",
       "    </tr>\n",
       "  </thead>\n",
       "  <tbody>\n",
       "    <tr>\n",
       "      <th>0</th>\n",
       "      <td>2022-05-18</td>\n",
       "      <td>2</td>\n",
       "      <td>10000</td>\n",
       "      <td>1100</td>\n",
       "      <td>Ground out of 2</td>\n",
       "      <td>Super Area</td>\n",
       "      <td>Bandel</td>\n",
       "      <td>Kolkata</td>\n",
       "      <td>Unfurnished</td>\n",
       "      <td>Bachelors/Family</td>\n",
       "      <td>2</td>\n",
       "      <td>Contact Owner</td>\n",
       "    </tr>\n",
       "    <tr>\n",
       "      <th>1</th>\n",
       "      <td>2022-05-13</td>\n",
       "      <td>2</td>\n",
       "      <td>20000</td>\n",
       "      <td>800</td>\n",
       "      <td>1 out of 3</td>\n",
       "      <td>Super Area</td>\n",
       "      <td>Phool Bagan, Kankurgachi</td>\n",
       "      <td>Kolkata</td>\n",
       "      <td>Semi-Furnished</td>\n",
       "      <td>Bachelors/Family</td>\n",
       "      <td>1</td>\n",
       "      <td>Contact Owner</td>\n",
       "    </tr>\n",
       "    <tr>\n",
       "      <th>2</th>\n",
       "      <td>2022-05-16</td>\n",
       "      <td>2</td>\n",
       "      <td>17000</td>\n",
       "      <td>1000</td>\n",
       "      <td>1 out of 3</td>\n",
       "      <td>Super Area</td>\n",
       "      <td>Salt Lake City Sector 2</td>\n",
       "      <td>Kolkata</td>\n",
       "      <td>Semi-Furnished</td>\n",
       "      <td>Bachelors/Family</td>\n",
       "      <td>1</td>\n",
       "      <td>Contact Owner</td>\n",
       "    </tr>\n",
       "    <tr>\n",
       "      <th>3</th>\n",
       "      <td>2022-07-04</td>\n",
       "      <td>2</td>\n",
       "      <td>10000</td>\n",
       "      <td>800</td>\n",
       "      <td>1 out of 2</td>\n",
       "      <td>Super Area</td>\n",
       "      <td>Dumdum Park</td>\n",
       "      <td>Kolkata</td>\n",
       "      <td>Unfurnished</td>\n",
       "      <td>Bachelors/Family</td>\n",
       "      <td>1</td>\n",
       "      <td>Contact Owner</td>\n",
       "    </tr>\n",
       "    <tr>\n",
       "      <th>4</th>\n",
       "      <td>2022-05-09</td>\n",
       "      <td>2</td>\n",
       "      <td>7500</td>\n",
       "      <td>850</td>\n",
       "      <td>1 out of 2</td>\n",
       "      <td>Carpet Area</td>\n",
       "      <td>South Dum Dum</td>\n",
       "      <td>Kolkata</td>\n",
       "      <td>Unfurnished</td>\n",
       "      <td>Bachelors</td>\n",
       "      <td>1</td>\n",
       "      <td>Contact Owner</td>\n",
       "    </tr>\n",
       "  </tbody>\n",
       "</table>\n",
       "</div>"
      ],
      "text/plain": [
       "    Posted On  BHK   Rent  Size            Floor    Area Type  \\\n",
       "0  2022-05-18    2  10000  1100  Ground out of 2   Super Area   \n",
       "1  2022-05-13    2  20000   800       1 out of 3   Super Area   \n",
       "2  2022-05-16    2  17000  1000       1 out of 3   Super Area   \n",
       "3  2022-07-04    2  10000   800       1 out of 2   Super Area   \n",
       "4  2022-05-09    2   7500   850       1 out of 2  Carpet Area   \n",
       "\n",
       "              Area Locality     City Furnishing Status  Tenant Preferred  \\\n",
       "0                    Bandel  Kolkata       Unfurnished  Bachelors/Family   \n",
       "1  Phool Bagan, Kankurgachi  Kolkata    Semi-Furnished  Bachelors/Family   \n",
       "2   Salt Lake City Sector 2  Kolkata    Semi-Furnished  Bachelors/Family   \n",
       "3               Dumdum Park  Kolkata       Unfurnished  Bachelors/Family   \n",
       "4             South Dum Dum  Kolkata       Unfurnished         Bachelors   \n",
       "\n",
       "   Bathroom Point of Contact  \n",
       "0         2    Contact Owner  \n",
       "1         1    Contact Owner  \n",
       "2         1    Contact Owner  \n",
       "3         1    Contact Owner  \n",
       "4         1    Contact Owner  "
      ]
     },
     "execution_count": 11,
     "metadata": {},
     "output_type": "execute_result"
    }
   ],
   "source": [
    "import pandas as pd\n",
    "df=pd.read_csv('House_Rent_Dataset.csv')\n",
    "df.head()"
   ]
  },
  {
   "cell_type": "code",
   "execution_count": 13,
   "id": "dfede9a1-17ad-41e9-a0ef-cb997309e9b1",
   "metadata": {},
   "outputs": [
    {
     "name": "stdout",
     "output_type": "stream",
     "text": [
      "<class 'pandas.core.frame.DataFrame'>\n",
      "RangeIndex: 4746 entries, 0 to 4745\n",
      "Data columns (total 12 columns):\n",
      " #   Column             Non-Null Count  Dtype \n",
      "---  ------             --------------  ----- \n",
      " 0   Posted On          4746 non-null   object\n",
      " 1   BHK                4746 non-null   int64 \n",
      " 2   Rent               4746 non-null   int64 \n",
      " 3   Size               4746 non-null   int64 \n",
      " 4   Floor              4746 non-null   object\n",
      " 5   Area Type          4746 non-null   object\n",
      " 6   Area Locality      4746 non-null   object\n",
      " 7   City               4746 non-null   object\n",
      " 8   Furnishing Status  4746 non-null   object\n",
      " 9   Tenant Preferred   4746 non-null   object\n",
      " 10  Bathroom           4746 non-null   int64 \n",
      " 11  Point of Contact   4746 non-null   object\n",
      "dtypes: int64(4), object(8)\n",
      "memory usage: 445.1+ KB\n"
     ]
    }
   ],
   "source": [
    "df.info()"
   ]
  },
  {
   "cell_type": "code",
   "execution_count": 15,
   "id": "c6c95d61-a63b-42fb-95ad-210dd502b8a8",
   "metadata": {},
   "outputs": [
    {
     "name": "stdout",
     "output_type": "stream",
     "text": [
      "Cities in our dataset:\n",
      "['Kolkata' 'Mumbai' 'Bangalore' 'Delhi' 'Chennai' 'Hyderabad']\n"
     ]
    }
   ],
   "source": [
    "# Checking what cities are available in my dataset\n",
    "print(\"Cities in our dataset:\")\n",
    "print(df['City'].unique())"
   ]
  },
  {
   "cell_type": "code",
   "execution_count": 17,
   "id": "200e48ce-9b1d-474f-94d8-54b2dbdaada6",
   "metadata": {},
   "outputs": [
    {
     "name": "stdout",
     "output_type": "stream",
     "text": [
      "\n",
      "Number of listings per city:\n",
      "City\n",
      "Mumbai       972\n",
      "Chennai      891\n",
      "Bangalore    886\n",
      "Hyderabad    868\n",
      "Delhi        605\n",
      "Kolkata      524\n",
      "Name: count, dtype: int64\n"
     ]
    }
   ],
   "source": [
    "# Counting listings by city\n",
    "city_counts = df['City'].value_counts()\n",
    "print(\"\\nNumber of listings per city:\")\n",
    "print(city_counts)"
   ]
  },
  {
   "cell_type": "code",
   "execution_count": 19,
   "id": "8d376be7-2d41-46ed-96ce-71f92b1fb5c8",
   "metadata": {
    "scrolled": true
   },
   "outputs": [
    {
     "name": "stdout",
     "output_type": "stream",
     "text": [
      "Overall rent statistics:\n",
      "count    4.746000e+03\n",
      "mean     3.499345e+04\n",
      "std      7.810641e+04\n",
      "min      1.200000e+03\n",
      "25%      1.000000e+04\n",
      "50%      1.600000e+04\n",
      "75%      3.300000e+04\n",
      "max      3.500000e+06\n",
      "Name: Rent, dtype: float64\n"
     ]
    }
   ],
   "source": [
    "# rental distribution across all cities\n",
    "print(\"Overall rent statistics:\")\n",
    "print(df['Rent'].describe())"
   ]
  },
  {
   "cell_type": "code",
   "execution_count": 21,
   "id": "71ef9a2a-096b-4ff2-a9ef-b7b6d66cfa48",
   "metadata": {},
   "outputs": [
    {
     "name": "stdout",
     "output_type": "stream",
     "text": [
      "\n",
      "Rent statistics by city:\n",
      "\n",
      "Kolkata:\n",
      "  Average rent: ₹11645\n",
      "  Median rent: ₹8500\n",
      "  Min rent: ₹1500\n",
      "  Max rent: ₹180000\n",
      "\n",
      "Mumbai:\n",
      "  Average rent: ₹85321\n",
      "  Median rent: ₹52000\n",
      "  Min rent: ₹4500\n",
      "  Max rent: ₹1200000\n",
      "\n",
      "Bangalore:\n",
      "  Average rent: ₹24966\n",
      "  Median rent: ₹14000\n",
      "  Min rent: ₹3500\n",
      "  Max rent: ₹3500000\n",
      "\n",
      "Delhi:\n",
      "  Average rent: ₹29462\n",
      "  Median rent: ₹17000\n",
      "  Min rent: ₹2000\n",
      "  Max rent: ₹530000\n",
      "\n",
      "Chennai:\n",
      "  Average rent: ₹21614\n",
      "  Median rent: ₹14000\n",
      "  Min rent: ₹3000\n",
      "  Max rent: ₹600000\n",
      "\n",
      "Hyderabad:\n",
      "  Average rent: ₹20555\n",
      "  Median rent: ₹14000\n",
      "  Min rent: ₹1200\n",
      "  Max rent: ₹400000\n"
     ]
    }
   ],
   "source": [
    "# rental ranges for each city\n",
    "print(\"\\nRent statistics by city:\")\n",
    "for city in df['City'].unique():\n",
    "    city_data = df[df['City'] == city]\n",
    "    print(f\"\\n{city}:\")\n",
    "    print(f\"  Average rent: ₹{city_data['Rent'].mean():.0f}\")\n",
    "    print(f\"  Median rent: ₹{city_data['Rent'].median():.0f}\")\n",
    "    print(f\"  Min rent: ₹{city_data['Rent'].min()}\")\n",
    "    print(f\"  Max rent: ₹{city_data['Rent'].max()}\")"
   ]
  },
  {
   "cell_type": "code",
   "execution_count": 23,
   "id": "c6f177bb-64dd-42a3-a35e-ed468acd0383",
   "metadata": {},
   "outputs": [
    {
     "name": "stdout",
     "output_type": "stream",
     "text": [
      "Bangalore dataset size: 886 listings\n",
      "This is 18.7% of our total data\n"
     ]
    }
   ],
   "source": [
    "# Filtering data for Bangalore (this is suitable for my analysis)\n",
    "bangalore_data = df[df['City'] == 'Bangalore'].copy()\n",
    "print(f\"Bangalore dataset size: {len(bangalore_data)} listings\")\n",
    "print(f\"This is {len(bangalore_data)/len(df)*100:.1f}% of our total data\")"
   ]
  },
  {
   "cell_type": "code",
   "execution_count": 25,
   "id": "86addd9c-73a9-4012-8f4d-6c640aac7abb",
   "metadata": {},
   "outputs": [
    {
     "name": "stdout",
     "output_type": "stream",
     "text": [
      "Room types available in Bangalore:\n",
      "BHK\n",
      "1    270\n",
      "2    431\n",
      "3    162\n",
      "4     23\n",
      "Name: count, dtype: int64\n"
     ]
    }
   ],
   "source": [
    "# BHK distribution in Bangalore\n",
    "print(\"Room types available in Bangalore:\")\n",
    "print(bangalore_data['BHK'].value_counts().sort_index())"
   ]
  },
  {
   "cell_type": "code",
   "execution_count": 27,
   "id": "44a84d89-f339-4a8b-9b78-0e2c2f9337af",
   "metadata": {},
   "outputs": [
    {
     "name": "stdout",
     "output_type": "stream",
     "text": [
      "Top 10 areas in Bangalore:\n",
      "Area Locality\n",
      "Electronic City                             24\n",
      "K R Puram                                   19\n",
      "Murugeshpalya, Airport Road                 14\n",
      "Mahadevapura                                13\n",
      "Hebbal                                      12\n",
      "whitefield                                  12\n",
      "Vijayanagar                                 12\n",
      "Ramamurthy Nagar                            12\n",
      "Jp Nagar Phase 7, J P Nagar                 11\n",
      "Electronic City Phase 2, Electronic City    11\n",
      "Name: count, dtype: int64\n"
     ]
    }
   ],
   "source": [
    "# Checking top areas in Bangalore\n",
    "print(\"Top 10 areas in Bangalore:\")\n",
    "print(bangalore_data['Area Locality'].value_counts().head(10))"
   ]
  },
  {
   "cell_type": "code",
   "execution_count": 29,
   "id": "b3d90fab-d3e7-4bdf-bf43-2aa5351b6b2f",
   "metadata": {},
   "outputs": [
    {
     "name": "stdout",
     "output_type": "stream",
     "text": [
      "Average rent by room type in Bangalore:\n",
      "         mean    median  count\n",
      "BHK                           \n",
      "1      9368.0    8000.0    270\n",
      "2     16122.0   15000.0    431\n",
      "3     61989.0   30000.0    162\n",
      "4    113043.0  100000.0     23\n"
     ]
    }
   ],
   "source": [
    "# Calculating average rent for each BHK type in Bangalore\n",
    "print(\"Average rent by room type in Bangalore:\")\n",
    "rent_by_bhk = bangalore_data.groupby('BHK')['Rent'].agg(['mean', 'median', 'count'])\n",
    "print(rent_by_bhk.round(0))"
   ]
  },
  {
   "cell_type": "code",
   "execution_count": 31,
   "id": "f98ee80c-454e-4ce4-8164-9af6f5cdfdf0",
   "metadata": {},
   "outputs": [
    {
     "name": "stdout",
     "output_type": "stream",
     "text": [
      "\n",
      "Rent per room by BHK type:\n",
      "        mean   median\n",
      "BHK                  \n",
      "1     9368.0   8000.0\n",
      "2     8061.0   7500.0\n",
      "3    20663.0  10000.0\n",
      "4    28261.0  25000.0\n"
     ]
    }
   ],
   "source": [
    "# Calculatinging rent per room (total rent divided by number of bedrooms)\n",
    "bangalore_data['Rent_per_room'] = bangalore_data['Rent'] / bangalore_data['BHK']\n",
    "print(\"\\nRent per room by BHK type:\")\n",
    "rent_per_room = bangalore_data.groupby('BHK')['Rent_per_room'].agg(['mean', 'median'])\n",
    "print(rent_per_room.round(0))"
   ]
  },
  {
   "cell_type": "code",
   "execution_count": 33,
   "id": "6c84904c-586e-48b1-aba5-33b81c675602",
   "metadata": {},
   "outputs": [
    {
     "name": "stdout",
     "output_type": "stream",
     "text": [
      "Student-relevant housing: 701 listings\n",
      "This represents 79.1% of Bangalore market\n"
     ]
    }
   ],
   "source": [
    "# Focusing on 1 BHK and 2 BHK (most relevant for students)\n",
    "student_housing = bangalore_data[bangalore_data['BHK'].isin([1, 2])]\n",
    "print(f\"Student-relevant housing: {len(student_housing)} listings\")\n",
    "print(f\"This represents {len(student_housing)/len(bangalore_data)*100:.1f}% of Bangalore market\")"
   ]
  },
  {
   "cell_type": "code",
   "execution_count": 35,
   "id": "ec31e09d-6461-4cb1-92fb-ddf179c3f3e2",
   "metadata": {},
   "outputs": [
    {
     "name": "stdout",
     "output_type": "stream",
     "text": [
      "STUDENT HOUSING MARKET ANALYSIS - BANGALORE\n",
      "==================================================\n",
      "Single student (1 BHK): ₹8000/month\n",
      "Shared housing (2 BHK ÷ 2): ₹7500/month per student\n",
      "Monthly savings by sharing: ₹500\n"
     ]
    }
   ],
   "source": [
    "# Creating the key comparison for university housing\n",
    "print(\"STUDENT HOUSING MARKET ANALYSIS - BANGALORE\")\n",
    "print(\"=\" * 50)\n",
    "print(f\"Single student (1 BHK): ₹{bangalore_data[bangalore_data['BHK']==1]['Rent'].median():.0f}/month\")\n",
    "print(f\"Shared housing (2 BHK ÷ 2): ₹{bangalore_data[bangalore_data['BHK']==2]['Rent'].median()/2:.0f}/month per student\")\n",
    "print(f\"Monthly savings by sharing: ₹{bangalore_data[bangalore_data['BHK']==1]['Rent'].median() - (bangalore_data[bangalore_data['BHK']==2]['Rent'].median()/2):.0f}\")\n"
   ]
  },
  {
   "cell_type": "code",
   "execution_count": 37,
   "id": "05c508e9-0b6c-4272-8227-063ca2e67f07",
   "metadata": {},
   "outputs": [
    {
     "name": "stdout",
     "output_type": "stream",
     "text": [
      "Tenant preferences in the dataset:\n",
      "Tenant Preferred\n",
      "Bachelors/Family    694\n",
      "Bachelors           135\n",
      "Family               57\n",
      "Name: count, dtype: int64\n"
     ]
    }
   ],
   "source": [
    "print(\"Tenant preferences in the dataset:\")\n",
    "print(bangalore_data['Tenant Preferred'].value_counts())\n"
   ]
  },
  {
   "cell_type": "code",
   "execution_count": 39,
   "id": "3437dee0-129e-40ca-bbd0-4860657389da",
   "metadata": {},
   "outputs": [
    {
     "name": "stdout",
     "output_type": "stream",
     "text": [
      "Furnishing status:\n",
      "Furnishing Status\n",
      "Semi-Furnished    584\n",
      "Unfurnished       211\n",
      "Furnished          91\n",
      "Name: count, dtype: int64\n"
     ]
    }
   ],
   "source": [
    "print(\"Furnishing status:\")\n",
    "print(bangalore_data['Furnishing Status'].value_counts())"
   ]
  },
  {
   "cell_type": "code",
   "execution_count": 41,
   "id": "9972b5c8-02f5-47b1-b539-badbf5b26529",
   "metadata": {},
   "outputs": [
    {
     "name": "stdout",
     "output_type": "stream",
     "text": [
      "BANGALORE RENTAL MARKET ANALYSIS FOR UNIVERSITY HOUSING\n",
      "============================================================\n",
      "Dataset: 886 rental listings in Bangalore\n",
      "Student-relevant housing (1-2 BHK): 701 listings\n",
      "\n",
      "MARKET PRICING:\n",
      "• Single occupancy (1 BHK): ₹8,000/month\n",
      "• Shared occupancy (2 BHK ÷ 2): ₹7,500/month per student\n",
      "• Cost advantage of sharing: ₹500/month\n",
      "\n",
      "STUDENT ACCESSIBILITY:\n",
      "• Bachelor-friendly properties: 829 (93.6%)\n",
      "• Semi-furnished (student preference): 584 (65.9%)\n",
      "\n",
      "UNIVERSITY HOUSING RECOMMENDATION:\n",
      "• Competitive price range: ₹7,000 - ₹8,500/month\n",
      "• Focus on semi-furnished options\n",
      "• Consider shared room configurations\n"
     ]
    }
   ],
   "source": [
    "# Final summary for my presentation\n",
    "print(\"BANGALORE RENTAL MARKET ANALYSIS FOR UNIVERSITY HOUSING\")\n",
    "print(\"=\" * 60)\n",
    "print(f\"Dataset: {len(bangalore_data)} rental listings in Bangalore\")\n",
    "print(f\"Student-relevant housing (1-2 BHK): {len(bangalore_data[bangalore_data['BHK'].isin([1,2])])} listings\")\n",
    "print()\n",
    "print(\"MARKET PRICING:\")\n",
    "print(f\"• Single occupancy (1 BHK): ₹8,000/month\")\n",
    "print(f\"• Shared occupancy (2 BHK ÷ 2): ₹7,500/month per student\")\n",
    "print(f\"• Cost advantage of sharing: ₹500/month\")\n",
    "print()\n",
    "print(\"STUDENT ACCESSIBILITY:\")\n",
    "print(f\"• Bachelor-friendly properties: {len(bangalore_data[bangalore_data['Tenant Preferred'].isin(['Bachelors', 'Bachelors/Family'])])} ({len(bangalore_data[bangalore_data['Tenant Preferred'].isin(['Bachelors', 'Bachelors/Family'])])/len(bangalore_data)*100:.1f}%)\")\n",
    "print(f\"• Semi-furnished (student preference): {len(bangalore_data[bangalore_data['Furnishing Status']=='Semi-Furnished'])} ({len(bangalore_data[bangalore_data['Furnishing Status']=='Semi-Furnished'])/len(bangalore_data)*100:.1f}%)\")\n",
    "print()\n",
    "print(\"UNIVERSITY HOUSING RECOMMENDATION:\")\n",
    "print(\"• Competitive price range: ₹7,000 - ₹8,500/month\")\n",
    "print(\"• Focus on semi-furnished options\")\n",
    "print(\"• Consider shared room configurations\")"
   ]
  },
  {
   "cell_type": "code",
   "execution_count": 43,
   "id": "fbc21f33-e50c-4052-8d21-da52ed515389",
   "metadata": {},
   "outputs": [
    {
     "name": "stdout",
     "output_type": "stream",
     "text": [
      "TOP AREAS FOR STUDENT HOUSING IN BANGALORE\n",
      "=============================================\n",
      "Most student-friendly areas:\n",
      "• Electronic City: 23 properties\n",
      "  - 1 BHK: ₹7500\n",
      "  - 2 BHK: ₹14000 (₹7000 per student)\n",
      "\n",
      "• K R Puram: 18 properties\n",
      "  - 1 BHK: ₹8250\n",
      "  - 2 BHK: ₹12500 (₹6250 per student)\n",
      "\n",
      "• Murugeshpalya, Airport Road: 14 properties\n",
      "  - 1 BHK: ₹14000\n",
      "  - 2 BHK: ₹14500 (₹7250 per student)\n",
      "\n",
      "• Mahadevapura: 13 properties\n",
      "  - 1 BHK: ₹11250\n",
      "  - 2 BHK: ₹15000 (₹7500 per student)\n",
      "\n",
      "• Ramamurthy Nagar: 12 properties\n",
      "  - 1 BHK: ₹9000\n",
      "  - 2 BHK: ₹12500 (₹6250 per student)\n",
      "\n"
     ]
    }
   ],
   "source": [
    "# Analyzing the top student-friendly areas\n",
    "print(\"TOP AREAS FOR STUDENT HOUSING IN BANGALORE\")\n",
    "print(\"=\" * 45)\n",
    "bachelor_friendly = bangalore_data[bangalore_data['Tenant Preferred'].isin(['Bachelors', 'Bachelors/Family'])]\n",
    "top_areas = bachelor_friendly['Area Locality'].value_counts().head(5)\n",
    "print(\"Most student-friendly areas:\")\n",
    "for area, count in top_areas.items():\n",
    "    area_data = bachelor_friendly[bachelor_friendly['Area Locality'] == area]\n",
    "    avg_rent_1bhk = area_data[area_data['BHK']==1]['Rent'].median()\n",
    "    avg_rent_2bhk = area_data[area_data['BHK']==2]['Rent'].median()\n",
    "    print(f\"• {area}: {count} properties\")\n",
    "    if not pd.isna(avg_rent_1bhk):\n",
    "        print(f\"  - 1 BHK: ₹{avg_rent_1bhk:.0f}\")\n",
    "    if not pd.isna(avg_rent_2bhk):\n",
    "        print(f\"  - 2 BHK: ₹{avg_rent_2bhk:.0f} (₹{avg_rent_2bhk/2:.0f} per student)\")\n",
    "    print()"
   ]
  },
  {
   "cell_type": "code",
   "execution_count": null,
   "id": "e4121c7f-74d2-4b1b-89e3-6b0898017576",
   "metadata": {},
   "outputs": [],
   "source": []
  }
 ],
 "metadata": {
  "kernelspec": {
   "display_name": "Python [conda env:base] *",
   "language": "python",
   "name": "conda-base-py"
  },
  "language_info": {
   "codemirror_mode": {
    "name": "ipython",
    "version": 3
   },
   "file_extension": ".py",
   "mimetype": "text/x-python",
   "name": "python",
   "nbconvert_exporter": "python",
   "pygments_lexer": "ipython3",
   "version": "3.12.7"
  }
 },
 "nbformat": 4,
 "nbformat_minor": 5
}
